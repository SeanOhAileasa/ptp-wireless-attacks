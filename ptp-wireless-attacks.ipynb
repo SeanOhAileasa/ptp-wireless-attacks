{
 "cells": [
  {
   "cell_type": "markdown",
   "id": "d4ee9e4b",
   "metadata": {},
   "source": [
    "***\n",
    "< [Home](https://github.com/SeanOhAileasa) | [README](https://github.com/SeanOhAileasa/ptp-wireless-attacks/blob/main/README.md) >\n",
    "\n",
    "## CompTIA PenTest+ - Course Material 2022\n",
    "###### Topic: ``Wireless Attacks``\n",
    "***"
   ]
  },
  {
   "cell_type": "markdown",
   "id": "b82b07fb",
   "metadata": {},
   "source": [
    "Course material for the ``CompTIA PenTest+`` module of the ``ICT Associate Apprenticeship (Cybersecurity)`` programme."
   ]
  },
  {
   "cell_type": "markdown",
   "id": "e7228f57",
   "metadata": {},
   "source": [
    "<a id=\"top\"></a>\n",
    "***\n",
    "## Table of Contents\n",
    "***"
   ]
  },
  {
   "cell_type": "markdown",
   "id": "c2bb5e7b",
   "metadata": {},
   "source": [
    "### [Wireless Attacks](#aa) <br/><br/>\n",
    "<hr width=50%;>"
   ]
  },
  {
   "cell_type": "markdown",
   "id": "2a5e7624",
   "metadata": {},
   "source": [
    "### [Wireless Attack Methods](#A) <br/><br/>\n",
    "<hr width=50%;>"
   ]
  },
  {
   "cell_type": "markdown",
   "id": "1c998011",
   "metadata": {},
   "source": [
    "### [Evil Twin Attacks](#B) <br/><br/>\n",
    "<hr width=50%;>"
   ]
  },
  {
   "cell_type": "markdown",
   "id": "f34fd5e1",
   "metadata": {},
   "source": [
    "### [Captive Portal Attacks](#C) <br/><br/>\n",
    "<hr width=50%;>"
   ]
  },
  {
   "cell_type": "markdown",
   "id": "a6460c59",
   "metadata": {},
   "source": [
    "### [Wireless Bluejacking](#D) <br/><br/>\n",
    "<hr width=50%;>"
   ]
  },
  {
   "cell_type": "markdown",
   "id": "804f7316",
   "metadata": {},
   "source": [
    "### [Wireless Bluesnarfing](#E) <br/><br/>\n",
    "<hr width=50%;>"
   ]
  },
  {
   "cell_type": "markdown",
   "id": "afbb751e",
   "metadata": {},
   "source": [
    "### [Radio-frequency Identification Cloning](#F) <br/><br/>\n",
    "<hr width=50%;>"
   ]
  },
  {
   "cell_type": "markdown",
   "id": "2909cdfd",
   "metadata": {},
   "source": [
    "### [Bluetooth Low Energy Attacks](#G) <br/><br/>\n",
    "<hr width=50%;>"
   ]
  },
  {
   "cell_type": "markdown",
   "id": "1b7d5f45",
   "metadata": {},
   "source": [
    "### [Wireless Amplification Attacks](#H) <br/><br/>\n",
    "<hr width=50%;>"
   ]
  },
  {
   "cell_type": "markdown",
   "id": "09a59bc8",
   "metadata": {},
   "source": [
    "### [Wi-Fi Protected Setup PIN Attack](#I) <br/><br/>\n",
    "<hr width=50%;>"
   ]
  },
  {
   "cell_type": "markdown",
   "id": "eb46c61b",
   "metadata": {},
   "source": [
    "### [Cloning, Jamming, and Repeating](#J) <br/><br/>\n",
    "<hr width=50%;>"
   ]
  },
  {
   "cell_type": "markdown",
   "id": "301b3d24",
   "metadata": {},
   "source": [
    "### [Wireless Attack Tools](#K) <br/><br/>\n",
    "<hr width=50%;>"
   ]
  },
  {
   "cell_type": "markdown",
   "id": "74746cb2",
   "metadata": {},
   "source": [
    "### [Course Summary](#L) <br/><br/>\n",
    "<hr width=50%;>"
   ]
  },
  {
   "cell_type": "markdown",
   "id": "bf2b95e2",
   "metadata": {},
   "source": [
    "***\n",
    "## END"
   ]
  },
  {
   "cell_type": "markdown",
   "id": "34aa6eb5",
   "metadata": {},
   "source": [
    "< [Table of Contents](#top) | [References](#references) >\n",
    "<a id=\"aa\"></a>\n",
    "***\n",
    "### Wireless Attacks\n",
    "***"
   ]
  },
  {
   "cell_type": "markdown",
   "id": "173e78b5",
   "metadata": {},
   "source": []
  },
  {
   "cell_type": "markdown",
   "id": "3364fc91",
   "metadata": {},
   "source": [
    "< [Table of Contents](#top) | [References](#references) >\n",
    "<a id=\"A\"></a>\n",
    "***\n",
    "### Wireless Attack Methods\n",
    "*** "
   ]
  },
  {
   "cell_type": "markdown",
   "id": "1ae6436a",
   "metadata": {},
   "source": []
  },
  {
   "cell_type": "markdown",
   "id": "9a0ebcac",
   "metadata": {},
   "source": [
    "< [Table of Contents](#top) | [References](#references) >\n",
    "<a id=\"B\"></a>\n",
    "***\n",
    "### Evil Twin Attacks\n",
    "*** "
   ]
  },
  {
   "cell_type": "markdown",
   "id": "8431c326",
   "metadata": {},
   "source": []
  },
  {
   "cell_type": "markdown",
   "id": "1f947833",
   "metadata": {},
   "source": [
    "< [Table of Contents](#top) | [References](#references) >\n",
    "<a id=\"C\"></a>\n",
    "***\n",
    "### Captive Portal Attacks\n",
    "*** "
   ]
  },
  {
   "cell_type": "markdown",
   "id": "42562018",
   "metadata": {},
   "source": []
  },
  {
   "cell_type": "markdown",
   "id": "471e911c",
   "metadata": {},
   "source": [
    "< [Table of Contents](#top) | [References](#references) >\n",
    "<a id=\"D\"></a>\n",
    "***\n",
    "### Wireless Bluejacking\n",
    "*** "
   ]
  },
  {
   "cell_type": "markdown",
   "id": "843d9ece",
   "metadata": {},
   "source": []
  },
  {
   "cell_type": "markdown",
   "id": "1290518d",
   "metadata": {},
   "source": [
    "< [Table of Contents](#top) | [References](#references) >\n",
    "<a id=\"E\"></a>\n",
    "***\n",
    "### Wireless Bluesnarfing\n",
    "*** "
   ]
  },
  {
   "cell_type": "markdown",
   "id": "e1682d5d",
   "metadata": {},
   "source": []
  },
  {
   "cell_type": "markdown",
   "id": "9e14b56b",
   "metadata": {},
   "source": [
    "< [Table of Contents](#top) | [References](#references) >\n",
    "<a id=\"F\"></a>\n",
    "***\n",
    "### Radio-frequency Identification Cloning\n",
    "*** "
   ]
  },
  {
   "cell_type": "markdown",
   "id": "ab720bbf",
   "metadata": {},
   "source": []
  },
  {
   "cell_type": "markdown",
   "id": "843993bb",
   "metadata": {},
   "source": [
    "< [Table of Contents](#top) | [References](#references) >\n",
    "<a id=\"G\"></a>\n",
    "***\n",
    "### Bluetooth Low Energy Attacks\n",
    "*** "
   ]
  },
  {
   "cell_type": "markdown",
   "id": "a9148449",
   "metadata": {},
   "source": []
  },
  {
   "cell_type": "markdown",
   "id": "802ddf7c",
   "metadata": {},
   "source": [
    "< [Table of Contents](#top) | [References](#references) >\n",
    "<a id=\"H\"></a>\n",
    "***\n",
    "### Wireless Amplification Attacks\n",
    "*** "
   ]
  },
  {
   "cell_type": "markdown",
   "id": "3d8c2f25",
   "metadata": {},
   "source": []
  },
  {
   "cell_type": "markdown",
   "id": "aeaa7f3c",
   "metadata": {},
   "source": [
    "< [Table of Contents](#top) | [References](#references) >\n",
    "<a id=\"I\"></a>\n",
    "***\n",
    "### Wi-Fi Protected Setup PIN Attack\n",
    "*** "
   ]
  },
  {
   "cell_type": "markdown",
   "id": "584f5979",
   "metadata": {},
   "source": []
  },
  {
   "cell_type": "markdown",
   "id": "d1dd696b",
   "metadata": {},
   "source": [
    "< [Table of Contents](#top) | [References](#references) >\n",
    "<a id=\"J\"></a>\n",
    "***\n",
    "### Cloning, Jamming, and Repeating\n",
    "*** "
   ]
  },
  {
   "cell_type": "markdown",
   "id": "1aad079c",
   "metadata": {},
   "source": []
  },
  {
   "cell_type": "markdown",
   "id": "ed1d96c4",
   "metadata": {},
   "source": [
    "< [Table of Contents](#top) | [References](#references) >\n",
    "<a id=\"K\"></a>\n",
    "***\n",
    "### Wireless Attack Tools\n",
    "*** "
   ]
  },
  {
   "cell_type": "markdown",
   "id": "5dabfc2a",
   "metadata": {},
   "source": []
  },
  {
   "cell_type": "markdown",
   "id": "e4f4524f",
   "metadata": {},
   "source": [
    "< [Table of Contents](#top) | [References](#references) >\n",
    "<a id=\"L\"></a>\n",
    "***\n",
    "### Course Summary\n",
    "*** "
   ]
  },
  {
   "cell_type": "markdown",
   "id": "b114c7c4",
   "metadata": {},
   "source": []
  },
  {
   "cell_type": "markdown",
   "id": "2cc20932",
   "metadata": {},
   "source": [
    "***\n",
    "## END"
   ]
  },
  {
   "cell_type": "markdown",
   "id": "e0e42d51",
   "metadata": {},
   "source": [
    "< [Table of Contents](#top) >\n",
    "<a id=\"references\"></a>\n",
    "***\n",
    "## References\n",
    "***"
   ]
  },
  {
   "cell_type": "markdown",
   "id": "757bf6de",
   "metadata": {},
   "source": [
    "&nbsp;&nbsp;&nbsp;&nbsp;&nbsp;&nbsp;&nbsp;&nbsp;&nbsp;skillsoft, \"Wireless Attacks,\" [skillsoft.com](https://web.archive.org/web/20220403100053/https://www.skillsoft.com/), n.d.."
   ]
  },
  {
   "cell_type": "markdown",
   "id": "b33c372a",
   "metadata": {},
   "source": [
    "***\n",
    "## END"
   ]
  },
  {
   "cell_type": "markdown",
   "id": "e5961b4d",
   "metadata": {},
   "source": [
    "< [Table of Contents](#top) | [References](#references) >\n",
    "<a id=\"appendix\"></a>\n",
    "***\n",
    "## Appendix\n",
    "***"
   ]
  },
  {
   "cell_type": "markdown",
   "id": "00d82a82",
   "metadata": {},
   "source": [
    "***\n",
    "## END"
   ]
  },
  {
   "cell_type": "code",
   "execution_count": 1,
   "id": "706756a2",
   "metadata": {},
   "outputs": [
    {
     "name": "stderr",
     "output_type": "stream",
     "text": [
      "C:\\Users\\SeanOhAileasa\\AppData\\Local\\Temp\\ipykernel_13068\\1322614208.py:1: DeprecationWarning: Importing display from IPython.core.display is deprecated since IPython 7.14, please import from IPython display\n",
      "  from IPython.core.display import display,HTML\n"
     ]
    },
    {
     "data": {
      "text/html": [
       "<style>.container { width:100% !important; }</style>"
      ],
      "text/plain": [
       "<IPython.core.display.HTML object>"
      ]
     },
     "metadata": {},
     "output_type": "display_data"
    }
   ],
   "source": [
    "from IPython.core.display import display,HTML\n",
    "display(HTML(\"<style>.container { width:100% !important; }</style>\"))"
   ]
  },
  {
   "cell_type": "markdown",
   "id": "899c1783",
   "metadata": {},
   "source": [
    "# END JUPYTER NOTEBOOK"
   ]
  }
 ],
 "metadata": {
  "kernelspec": {
   "display_name": "Python 3 (ipykernel)",
   "language": "python",
   "name": "python3"
  },
  "language_info": {
   "codemirror_mode": {
    "name": "ipython",
    "version": 3
   },
   "file_extension": ".py",
   "mimetype": "text/x-python",
   "name": "python",
   "nbconvert_exporter": "python",
   "pygments_lexer": "ipython3",
   "version": "3.9.12"
  }
 },
 "nbformat": 4,
 "nbformat_minor": 5
}
